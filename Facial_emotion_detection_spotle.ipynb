{
  "nbformat": 4,
  "nbformat_minor": 0,
  "metadata": {
    "colab": {
      "name": "Facial_emotion_detection_spotle.ipynb",
      "provenance": [],
      "collapsed_sections": []
    },
    "kernelspec": {
      "name": "python3",
      "display_name": "Python 3"
    },
    "accelerator": "GPU"
  },
  "cells": [
    {
      "cell_type": "code",
      "metadata": {
        "id": "LiwnI0p7Msaq",
        "colab_type": "code",
        "colab": {
          "base_uri": "https://localhost:8080/",
          "height": 34
        },
        "outputId": "19a49c5b-4485-4c77-d9f4-88d88c1308de"
      },
      "source": [
        "from google.colab import drive\n",
        "drive.mount('/content/drive')"
      ],
      "execution_count": 1,
      "outputs": [
        {
          "output_type": "stream",
          "text": [
            "Drive already mounted at /content/drive; to attempt to forcibly remount, call drive.mount(\"/content/drive\", force_remount=True).\n"
          ],
          "name": "stdout"
        }
      ]
    },
    {
      "cell_type": "markdown",
      "metadata": {
        "id": "Sg7IdKNKQcQy",
        "colab_type": "text"
      },
      "source": [
        "### Importing Libraries"
      ]
    },
    {
      "cell_type": "code",
      "metadata": {
        "id": "288k_a0thRrj",
        "colab_type": "code",
        "colab": {}
      },
      "source": [
        "import glob\n",
        "import cv2\n",
        "import re\n",
        "import pandas as pd\n",
        "import numpy as np\n",
        "import random\n",
        "import matplotlib.pyplot as plt\n",
        "#import tqdm as tqdm\n",
        "#from tqdm.notebook import tqdm\n",
        "\n",
        "from tensorflow import keras\n",
        "\n",
        "from tensorflow.keras.applications.vgg16 import VGG16\n",
        "from tensorflow.keras.applications.vgg19 import VGG19\n",
        "# from tensorflow.keras.applications.inception_v3 import InceptionV3 \n",
        "from tensorflow.keras.models import load_model\n",
        "from tensorflow.keras import utils\n",
        "#from keras.utils.np_utils import to_categorical \n",
        "from tensorflow.keras.models import Sequential, Model\n",
        "from tensorflow.keras.layers import Dense, Dropout, Flatten, Conv2D, MaxPool2D, GlobalAveragePooling2D\n",
        "from tensorflow.keras.layers import BatchNormalization\n",
        "from tensorflow.keras.optimizers import RMSprop\n",
        "from tensorflow.keras.optimizers import Adam\n",
        "from tensorflow.keras.preprocessing.image import ImageDataGenerator\n",
        "from tensorflow.keras.preprocessing.image import DirectoryIterator\n",
        "from tensorflow.keras.applications.resnet import preprocess_input\n",
        "\n",
        "from tensorflow.keras.callbacks import EarlyStopping, ModelCheckpoint, ReduceLROnPlateau\n",
        "\n",
        "# from tensorflow.keras.applications.resnet import ResNet101\n",
        "# from tensorflow.keras.applications.resnet_v2 import ResNet101V2\n",
        "# from tensorflow.keras.applications.inception_resnet_v2 import InceptionResNetV2\n",
        "\n",
        "from sklearn.model_selection import train_test_split"
      ],
      "execution_count": 2,
      "outputs": []
    },
    {
      "cell_type": "markdown",
      "metadata": {
        "id": "t3PFMk24Qi9Y",
        "colab_type": "text"
      },
      "source": [
        "### Read data"
      ]
    },
    {
      "cell_type": "code",
      "metadata": {
        "id": "xaqjtexh7tKs",
        "colab_type": "code",
        "colab": {}
      },
      "source": [
        "data = pd.read_csv(\"/content/drive/My Drive/Data/spotle_hack/aithon2020-level-2/data/aithon2020_level2_traning.csv\")"
      ],
      "execution_count": 3,
      "outputs": []
    },
    {
      "cell_type": "code",
      "metadata": {
        "id": "hbOEI3qF8AxF",
        "colab_type": "code",
        "colab": {
          "base_uri": "https://localhost:8080/",
          "height": 253
        },
        "outputId": "5d60dcea-307d-4013-a8a6-01a362e49881"
      },
      "source": [
        "data.head()"
      ],
      "execution_count": 4,
      "outputs": [
        {
          "output_type": "execute_result",
          "data": {
            "text/html": [
              "<div>\n",
              "<style scoped>\n",
              "    .dataframe tbody tr th:only-of-type {\n",
              "        vertical-align: middle;\n",
              "    }\n",
              "\n",
              "    .dataframe tbody tr th {\n",
              "        vertical-align: top;\n",
              "    }\n",
              "\n",
              "    .dataframe thead th {\n",
              "        text-align: right;\n",
              "    }\n",
              "</style>\n",
              "<table border=\"1\" class=\"dataframe\">\n",
              "  <thead>\n",
              "    <tr style=\"text-align: right;\">\n",
              "      <th></th>\n",
              "      <th>emotion</th>\n",
              "      <th>pixel_0</th>\n",
              "      <th>pixel_1</th>\n",
              "      <th>pixel_2</th>\n",
              "      <th>pixel_3</th>\n",
              "      <th>pixel_4</th>\n",
              "      <th>pixel_5</th>\n",
              "      <th>pixel_6</th>\n",
              "      <th>pixel_7</th>\n",
              "      <th>pixel_8</th>\n",
              "      <th>pixel_9</th>\n",
              "      <th>pixel_10</th>\n",
              "      <th>pixel_11</th>\n",
              "      <th>pixel_12</th>\n",
              "      <th>pixel_13</th>\n",
              "      <th>pixel_14</th>\n",
              "      <th>pixel_15</th>\n",
              "      <th>pixel_16</th>\n",
              "      <th>pixel_17</th>\n",
              "      <th>pixel_18</th>\n",
              "      <th>pixel_19</th>\n",
              "      <th>pixel_20</th>\n",
              "      <th>pixel_21</th>\n",
              "      <th>pixel_22</th>\n",
              "      <th>pixel_23</th>\n",
              "      <th>pixel_24</th>\n",
              "      <th>pixel_25</th>\n",
              "      <th>pixel_26</th>\n",
              "      <th>pixel_27</th>\n",
              "      <th>pixel_28</th>\n",
              "      <th>pixel_29</th>\n",
              "      <th>pixel_30</th>\n",
              "      <th>pixel_31</th>\n",
              "      <th>pixel_32</th>\n",
              "      <th>pixel_33</th>\n",
              "      <th>pixel_34</th>\n",
              "      <th>pixel_35</th>\n",
              "      <th>pixel_36</th>\n",
              "      <th>pixel_37</th>\n",
              "      <th>pixel_38</th>\n",
              "      <th>...</th>\n",
              "      <th>pixel_2264</th>\n",
              "      <th>pixel_2265</th>\n",
              "      <th>pixel_2266</th>\n",
              "      <th>pixel_2267</th>\n",
              "      <th>pixel_2268</th>\n",
              "      <th>pixel_2269</th>\n",
              "      <th>pixel_2270</th>\n",
              "      <th>pixel_2271</th>\n",
              "      <th>pixel_2272</th>\n",
              "      <th>pixel_2273</th>\n",
              "      <th>pixel_2274</th>\n",
              "      <th>pixel_2275</th>\n",
              "      <th>pixel_2276</th>\n",
              "      <th>pixel_2277</th>\n",
              "      <th>pixel_2278</th>\n",
              "      <th>pixel_2279</th>\n",
              "      <th>pixel_2280</th>\n",
              "      <th>pixel_2281</th>\n",
              "      <th>pixel_2282</th>\n",
              "      <th>pixel_2283</th>\n",
              "      <th>pixel_2284</th>\n",
              "      <th>pixel_2285</th>\n",
              "      <th>pixel_2286</th>\n",
              "      <th>pixel_2287</th>\n",
              "      <th>pixel_2288</th>\n",
              "      <th>pixel_2289</th>\n",
              "      <th>pixel_2290</th>\n",
              "      <th>pixel_2291</th>\n",
              "      <th>pixel_2292</th>\n",
              "      <th>pixel_2293</th>\n",
              "      <th>pixel_2294</th>\n",
              "      <th>pixel_2295</th>\n",
              "      <th>pixel_2296</th>\n",
              "      <th>pixel_2297</th>\n",
              "      <th>pixel_2298</th>\n",
              "      <th>pixel_2299</th>\n",
              "      <th>pixel_2300</th>\n",
              "      <th>pixel_2301</th>\n",
              "      <th>pixel_2302</th>\n",
              "      <th>pixel_2303</th>\n",
              "    </tr>\n",
              "  </thead>\n",
              "  <tbody>\n",
              "    <tr>\n",
              "      <th>0</th>\n",
              "      <td>Fear</td>\n",
              "      <td>231</td>\n",
              "      <td>212</td>\n",
              "      <td>156</td>\n",
              "      <td>164</td>\n",
              "      <td>174</td>\n",
              "      <td>138</td>\n",
              "      <td>161</td>\n",
              "      <td>173</td>\n",
              "      <td>182</td>\n",
              "      <td>200</td>\n",
              "      <td>106</td>\n",
              "      <td>38</td>\n",
              "      <td>39</td>\n",
              "      <td>74</td>\n",
              "      <td>138</td>\n",
              "      <td>161</td>\n",
              "      <td>164</td>\n",
              "      <td>179</td>\n",
              "      <td>190</td>\n",
              "      <td>201</td>\n",
              "      <td>210</td>\n",
              "      <td>216</td>\n",
              "      <td>220</td>\n",
              "      <td>224</td>\n",
              "      <td>222</td>\n",
              "      <td>218</td>\n",
              "      <td>216</td>\n",
              "      <td>213</td>\n",
              "      <td>217</td>\n",
              "      <td>220</td>\n",
              "      <td>220</td>\n",
              "      <td>218</td>\n",
              "      <td>217</td>\n",
              "      <td>212</td>\n",
              "      <td>174</td>\n",
              "      <td>160</td>\n",
              "      <td>162</td>\n",
              "      <td>160</td>\n",
              "      <td>139</td>\n",
              "      <td>...</td>\n",
              "      <td>225</td>\n",
              "      <td>220</td>\n",
              "      <td>215</td>\n",
              "      <td>207</td>\n",
              "      <td>199</td>\n",
              "      <td>167</td>\n",
              "      <td>108</td>\n",
              "      <td>151</td>\n",
              "      <td>122</td>\n",
              "      <td>88</td>\n",
              "      <td>71</td>\n",
              "      <td>84</td>\n",
              "      <td>120</td>\n",
              "      <td>127</td>\n",
              "      <td>105</td>\n",
              "      <td>76</td>\n",
              "      <td>71</td>\n",
              "      <td>78</td>\n",
              "      <td>90</td>\n",
              "      <td>106</td>\n",
              "      <td>123</td>\n",
              "      <td>146</td>\n",
              "      <td>155</td>\n",
              "      <td>148</td>\n",
              "      <td>130</td>\n",
              "      <td>141</td>\n",
              "      <td>119</td>\n",
              "      <td>69</td>\n",
              "      <td>54</td>\n",
              "      <td>89</td>\n",
              "      <td>104</td>\n",
              "      <td>138</td>\n",
              "      <td>152</td>\n",
              "      <td>122</td>\n",
              "      <td>114</td>\n",
              "      <td>101</td>\n",
              "      <td>97</td>\n",
              "      <td>88</td>\n",
              "      <td>110</td>\n",
              "      <td>152</td>\n",
              "    </tr>\n",
              "    <tr>\n",
              "      <th>1</th>\n",
              "      <td>Fear</td>\n",
              "      <td>55</td>\n",
              "      <td>55</td>\n",
              "      <td>55</td>\n",
              "      <td>55</td>\n",
              "      <td>55</td>\n",
              "      <td>54</td>\n",
              "      <td>60</td>\n",
              "      <td>68</td>\n",
              "      <td>54</td>\n",
              "      <td>85</td>\n",
              "      <td>151</td>\n",
              "      <td>163</td>\n",
              "      <td>170</td>\n",
              "      <td>179</td>\n",
              "      <td>181</td>\n",
              "      <td>185</td>\n",
              "      <td>188</td>\n",
              "      <td>188</td>\n",
              "      <td>191</td>\n",
              "      <td>196</td>\n",
              "      <td>189</td>\n",
              "      <td>194</td>\n",
              "      <td>198</td>\n",
              "      <td>197</td>\n",
              "      <td>195</td>\n",
              "      <td>194</td>\n",
              "      <td>190</td>\n",
              "      <td>193</td>\n",
              "      <td>195</td>\n",
              "      <td>184</td>\n",
              "      <td>175</td>\n",
              "      <td>172</td>\n",
              "      <td>161</td>\n",
              "      <td>159</td>\n",
              "      <td>158</td>\n",
              "      <td>159</td>\n",
              "      <td>147</td>\n",
              "      <td>136</td>\n",
              "      <td>137</td>\n",
              "      <td>...</td>\n",
              "      <td>64</td>\n",
              "      <td>90</td>\n",
              "      <td>120</td>\n",
              "      <td>121</td>\n",
              "      <td>127</td>\n",
              "      <td>136</td>\n",
              "      <td>128</td>\n",
              "      <td>150</td>\n",
              "      <td>154</td>\n",
              "      <td>157</td>\n",
              "      <td>155</td>\n",
              "      <td>167</td>\n",
              "      <td>172</td>\n",
              "      <td>174</td>\n",
              "      <td>173</td>\n",
              "      <td>171</td>\n",
              "      <td>167</td>\n",
              "      <td>163</td>\n",
              "      <td>164</td>\n",
              "      <td>160</td>\n",
              "      <td>155</td>\n",
              "      <td>148</td>\n",
              "      <td>148</td>\n",
              "      <td>144</td>\n",
              "      <td>130</td>\n",
              "      <td>126</td>\n",
              "      <td>124</td>\n",
              "      <td>116</td>\n",
              "      <td>118</td>\n",
              "      <td>110</td>\n",
              "      <td>90</td>\n",
              "      <td>83</td>\n",
              "      <td>77</td>\n",
              "      <td>53</td>\n",
              "      <td>37</td>\n",
              "      <td>34</td>\n",
              "      <td>30</td>\n",
              "      <td>34</td>\n",
              "      <td>30</td>\n",
              "      <td>57</td>\n",
              "    </tr>\n",
              "    <tr>\n",
              "      <th>2</th>\n",
              "      <td>Sad</td>\n",
              "      <td>20</td>\n",
              "      <td>17</td>\n",
              "      <td>19</td>\n",
              "      <td>21</td>\n",
              "      <td>25</td>\n",
              "      <td>38</td>\n",
              "      <td>42</td>\n",
              "      <td>42</td>\n",
              "      <td>46</td>\n",
              "      <td>54</td>\n",
              "      <td>56</td>\n",
              "      <td>62</td>\n",
              "      <td>63</td>\n",
              "      <td>66</td>\n",
              "      <td>82</td>\n",
              "      <td>108</td>\n",
              "      <td>118</td>\n",
              "      <td>130</td>\n",
              "      <td>139</td>\n",
              "      <td>134</td>\n",
              "      <td>132</td>\n",
              "      <td>126</td>\n",
              "      <td>113</td>\n",
              "      <td>97</td>\n",
              "      <td>126</td>\n",
              "      <td>148</td>\n",
              "      <td>157</td>\n",
              "      <td>161</td>\n",
              "      <td>155</td>\n",
              "      <td>154</td>\n",
              "      <td>154</td>\n",
              "      <td>164</td>\n",
              "      <td>189</td>\n",
              "      <td>204</td>\n",
              "      <td>194</td>\n",
              "      <td>168</td>\n",
              "      <td>180</td>\n",
              "      <td>188</td>\n",
              "      <td>214</td>\n",
              "      <td>...</td>\n",
              "      <td>63</td>\n",
              "      <td>42</td>\n",
              "      <td>43</td>\n",
              "      <td>76</td>\n",
              "      <td>80</td>\n",
              "      <td>76</td>\n",
              "      <td>73</td>\n",
              "      <td>69</td>\n",
              "      <td>64</td>\n",
              "      <td>59</td>\n",
              "      <td>53</td>\n",
              "      <td>54</td>\n",
              "      <td>52</td>\n",
              "      <td>54</td>\n",
              "      <td>57</td>\n",
              "      <td>60</td>\n",
              "      <td>66</td>\n",
              "      <td>71</td>\n",
              "      <td>77</td>\n",
              "      <td>85</td>\n",
              "      <td>89</td>\n",
              "      <td>93</td>\n",
              "      <td>102</td>\n",
              "      <td>106</td>\n",
              "      <td>105</td>\n",
              "      <td>99</td>\n",
              "      <td>85</td>\n",
              "      <td>62</td>\n",
              "      <td>34</td>\n",
              "      <td>22</td>\n",
              "      <td>29</td>\n",
              "      <td>36</td>\n",
              "      <td>68</td>\n",
              "      <td>91</td>\n",
              "      <td>85</td>\n",
              "      <td>93</td>\n",
              "      <td>97</td>\n",
              "      <td>99</td>\n",
              "      <td>107</td>\n",
              "      <td>118</td>\n",
              "    </tr>\n",
              "    <tr>\n",
              "      <th>3</th>\n",
              "      <td>Happy</td>\n",
              "      <td>4</td>\n",
              "      <td>2</td>\n",
              "      <td>13</td>\n",
              "      <td>41</td>\n",
              "      <td>56</td>\n",
              "      <td>62</td>\n",
              "      <td>67</td>\n",
              "      <td>87</td>\n",
              "      <td>95</td>\n",
              "      <td>62</td>\n",
              "      <td>65</td>\n",
              "      <td>70</td>\n",
              "      <td>80</td>\n",
              "      <td>107</td>\n",
              "      <td>127</td>\n",
              "      <td>149</td>\n",
              "      <td>153</td>\n",
              "      <td>150</td>\n",
              "      <td>165</td>\n",
              "      <td>168</td>\n",
              "      <td>177</td>\n",
              "      <td>187</td>\n",
              "      <td>176</td>\n",
              "      <td>167</td>\n",
              "      <td>152</td>\n",
              "      <td>128</td>\n",
              "      <td>130</td>\n",
              "      <td>149</td>\n",
              "      <td>149</td>\n",
              "      <td>146</td>\n",
              "      <td>130</td>\n",
              "      <td>139</td>\n",
              "      <td>139</td>\n",
              "      <td>143</td>\n",
              "      <td>134</td>\n",
              "      <td>105</td>\n",
              "      <td>78</td>\n",
              "      <td>56</td>\n",
              "      <td>36</td>\n",
              "      <td>...</td>\n",
              "      <td>19</td>\n",
              "      <td>16</td>\n",
              "      <td>11</td>\n",
              "      <td>8</td>\n",
              "      <td>46</td>\n",
              "      <td>47</td>\n",
              "      <td>46</td>\n",
              "      <td>47</td>\n",
              "      <td>48</td>\n",
              "      <td>51</td>\n",
              "      <td>55</td>\n",
              "      <td>55</td>\n",
              "      <td>56</td>\n",
              "      <td>76</td>\n",
              "      <td>85</td>\n",
              "      <td>84</td>\n",
              "      <td>84</td>\n",
              "      <td>77</td>\n",
              "      <td>86</td>\n",
              "      <td>86</td>\n",
              "      <td>80</td>\n",
              "      <td>79</td>\n",
              "      <td>82</td>\n",
              "      <td>84</td>\n",
              "      <td>76</td>\n",
              "      <td>62</td>\n",
              "      <td>57</td>\n",
              "      <td>62</td>\n",
              "      <td>61</td>\n",
              "      <td>62</td>\n",
              "      <td>59</td>\n",
              "      <td>66</td>\n",
              "      <td>80</td>\n",
              "      <td>74</td>\n",
              "      <td>69</td>\n",
              "      <td>99</td>\n",
              "      <td>28</td>\n",
              "      <td>3</td>\n",
              "      <td>7</td>\n",
              "      <td>12</td>\n",
              "    </tr>\n",
              "    <tr>\n",
              "      <th>4</th>\n",
              "      <td>Fear</td>\n",
              "      <td>255</td>\n",
              "      <td>255</td>\n",
              "      <td>255</td>\n",
              "      <td>255</td>\n",
              "      <td>255</td>\n",
              "      <td>255</td>\n",
              "      <td>255</td>\n",
              "      <td>255</td>\n",
              "      <td>255</td>\n",
              "      <td>255</td>\n",
              "      <td>255</td>\n",
              "      <td>255</td>\n",
              "      <td>255</td>\n",
              "      <td>255</td>\n",
              "      <td>255</td>\n",
              "      <td>255</td>\n",
              "      <td>255</td>\n",
              "      <td>255</td>\n",
              "      <td>255</td>\n",
              "      <td>255</td>\n",
              "      <td>255</td>\n",
              "      <td>255</td>\n",
              "      <td>255</td>\n",
              "      <td>255</td>\n",
              "      <td>255</td>\n",
              "      <td>255</td>\n",
              "      <td>255</td>\n",
              "      <td>255</td>\n",
              "      <td>255</td>\n",
              "      <td>255</td>\n",
              "      <td>255</td>\n",
              "      <td>255</td>\n",
              "      <td>255</td>\n",
              "      <td>255</td>\n",
              "      <td>255</td>\n",
              "      <td>255</td>\n",
              "      <td>255</td>\n",
              "      <td>255</td>\n",
              "      <td>255</td>\n",
              "      <td>...</td>\n",
              "      <td>43</td>\n",
              "      <td>57</td>\n",
              "      <td>66</td>\n",
              "      <td>74</td>\n",
              "      <td>76</td>\n",
              "      <td>76</td>\n",
              "      <td>82</td>\n",
              "      <td>87</td>\n",
              "      <td>97</td>\n",
              "      <td>72</td>\n",
              "      <td>30</td>\n",
              "      <td>60</td>\n",
              "      <td>68</td>\n",
              "      <td>78</td>\n",
              "      <td>72</td>\n",
              "      <td>63</td>\n",
              "      <td>46</td>\n",
              "      <td>80</td>\n",
              "      <td>80</td>\n",
              "      <td>35</td>\n",
              "      <td>39</td>\n",
              "      <td>48</td>\n",
              "      <td>65</td>\n",
              "      <td>90</td>\n",
              "      <td>89</td>\n",
              "      <td>53</td>\n",
              "      <td>17</td>\n",
              "      <td>37</td>\n",
              "      <td>44</td>\n",
              "      <td>82</td>\n",
              "      <td>94</td>\n",
              "      <td>21</td>\n",
              "      <td>22</td>\n",
              "      <td>51</td>\n",
              "      <td>71</td>\n",
              "      <td>80</td>\n",
              "      <td>82</td>\n",
              "      <td>79</td>\n",
              "      <td>79</td>\n",
              "      <td>83</td>\n",
              "    </tr>\n",
              "  </tbody>\n",
              "</table>\n",
              "<p>5 rows × 2305 columns</p>\n",
              "</div>"
            ],
            "text/plain": [
              "  emotion  pixel_0  pixel_1  ...  pixel_2301  pixel_2302  pixel_2303\n",
              "0    Fear      231      212  ...          88         110         152\n",
              "1    Fear       55       55  ...          34          30          57\n",
              "2     Sad       20       17  ...          99         107         118\n",
              "3   Happy        4        2  ...           3           7          12\n",
              "4    Fear      255      255  ...          79          79          83\n",
              "\n",
              "[5 rows x 2305 columns]"
            ]
          },
          "metadata": {
            "tags": []
          },
          "execution_count": 4
        }
      ]
    },
    {
      "cell_type": "code",
      "metadata": {
        "id": "Hiv451yRMiMQ",
        "colab_type": "code",
        "colab": {
          "base_uri": "https://localhost:8080/",
          "height": 34
        },
        "outputId": "29b721a4-e9ef-4627-b7b2-561c335a7a20"
      },
      "source": [
        "data.shape"
      ],
      "execution_count": 5,
      "outputs": [
        {
          "output_type": "execute_result",
          "data": {
            "text/plain": [
              "(10817, 2305)"
            ]
          },
          "metadata": {
            "tags": []
          },
          "execution_count": 5
        }
      ]
    },
    {
      "cell_type": "code",
      "metadata": {
        "id": "MyksabD7RBnR",
        "colab_type": "code",
        "colab": {}
      },
      "source": [
        "#X, y_cat = data_xy(\"rgb\")"
      ],
      "execution_count": 6,
      "outputs": []
    },
    {
      "cell_type": "markdown",
      "metadata": {
        "id": "776gMCUeRaSJ",
        "colab_type": "text"
      },
      "source": [
        "### Read the data as grayscale images"
      ]
    },
    {
      "cell_type": "code",
      "metadata": {
        "id": "7D82SAsIRFeU",
        "colab_type": "code",
        "colab": {}
      },
      "source": [
        "X = []\n",
        "y_cat= []\n",
        "for tup in data.itertuples():\n",
        "      image = np.array(tup[2:]).reshape(48,48).astype(float).tolist()\n",
        "      X.append(image)\n",
        "      y_cat.append(tup[1])\n",
        "X = np.array(X)#.reshape(-1,48,48,1)"
      ],
      "execution_count": 7,
      "outputs": []
    },
    {
      "cell_type": "code",
      "metadata": {
        "id": "9EVVoJ2ZTmkd",
        "colab_type": "code",
        "colab": {}
      },
      "source": [
        "### One hot encoding of Label\n",
        "# print(\"Unique labels:\",set(y_cat))\n",
        "# convert_array = {'Happy': [1,0,0],'Sad': [0,1,0],'Fear':[0,0,1] }\n",
        "# # X = np.array(X).reshape(-1,48,48,1)\n",
        "# #y_encoded = np.array([convert_array[i] for i in y_cat])\n",
        "# #y = np.eye(len(set(y_encoded)))[y_encoded]\n",
        "# y = np.array([convert_array[i] for i in y_cat])\n",
        "# y.shape"
      ],
      "execution_count": 8,
      "outputs": []
    },
    {
      "cell_type": "markdown",
      "metadata": {
        "id": "sgvvCMeVrt9m",
        "colab_type": "text"
      },
      "source": [
        "### Check no of data points corresponding to each class"
      ]
    },
    {
      "cell_type": "code",
      "metadata": {
        "id": "UQXIWuCOa2Jr",
        "colab_type": "code",
        "colab": {}
      },
      "source": [
        "dic = {}\n",
        "for key in y_cat:\n",
        "  try:\n",
        "    dic[key] += 1\n",
        "  except:  \n",
        "    dic[key] = 1"
      ],
      "execution_count": 9,
      "outputs": []
    },
    {
      "cell_type": "code",
      "metadata": {
        "id": "ImDNG6viSZ8C",
        "colab_type": "code",
        "colab": {
          "base_uri": "https://localhost:8080/",
          "height": 68
        },
        "outputId": "f9472b8e-786c-4cba-d070-b1c5ba7b5a0c"
      },
      "source": [
        "for key in dic.keys():\n",
        "  print(\"No of images for category {} : {} \".format(key, dic[key]))"
      ],
      "execution_count": 10,
      "outputs": [
        {
          "output_type": "stream",
          "text": [
            "No of images for category Fear : 2737 \n",
            "No of images for category Sad : 3271 \n",
            "No of images for category Happy : 4809 \n"
          ],
          "name": "stdout"
        }
      ]
    },
    {
      "cell_type": "markdown",
      "metadata": {
        "id": "pWWoJa5gT98y",
        "colab_type": "text"
      },
      "source": [
        "### Convert Gray scale to RGB (by repeating the same channel)"
      ]
    },
    {
      "cell_type": "code",
      "metadata": {
        "id": "K8dwUNnavJFm",
        "colab_type": "code",
        "colab": {}
      },
      "source": [
        "X_rgb = []\n",
        "for item in X:\n",
        "      X_rgb.append(np.stack((item,)*3,axis = -1).tolist())\n",
        "X_rgb = np.array(X_rgb)"
      ],
      "execution_count": null,
      "outputs": []
    },
    {
      "cell_type": "markdown",
      "metadata": {
        "id": "r87wCJeVUK-n",
        "colab_type": "text"
      },
      "source": [
        "### Resize the RGB image (as required for the pre-trained model)"
      ]
    },
    {
      "cell_type": "code",
      "metadata": {
        "id": "LvMZ-udiyF9z",
        "colab_type": "code",
        "colab": {}
      },
      "source": [
        "width = 80\n",
        "height = 80\n",
        "dim = (width, height)\n",
        " \n",
        "temp  = X_rgb\n",
        "X = []\n",
        "for i in range(len(temp)):\n",
        "  X.append(cv2.resize(temp[i],dim))\n",
        "X = np.array(X) "
      ],
      "execution_count": 12,
      "outputs": []
    },
    {
      "cell_type": "markdown",
      "metadata": {
        "id": "Z1kVLQeVVCj7",
        "colab_type": "text"
      },
      "source": [
        "### Train-Test split"
      ]
    },
    {
      "cell_type": "code",
      "metadata": {
        "id": "QoSBRB2R5TV9",
        "colab_type": "code",
        "colab": {}
      },
      "source": [
        "X_train, X_test, y_train, y_test = train_test_split( X, y_cat, test_size=0.30, random_state=42, shuffle=True)"
      ],
      "execution_count": null,
      "outputs": []
    },
    {
      "cell_type": "markdown",
      "metadata": {
        "id": "4bbVUqKq48Es",
        "colab_type": "text"
      },
      "source": [
        "### Oversampling for training data\n",
        "\n"
      ]
    },
    {
      "cell_type": "code",
      "metadata": {
        "id": "u6Hcn5qWmSIA",
        "colab_type": "code",
        "colab": {}
      },
      "source": [
        "train_dic = {}\n",
        "for i in range(len(y_train)):\n",
        "  try:\n",
        "    train_dic[y_train[i]].append(X_train[i])\n",
        "  except:  \n",
        "    train_dic[y_train[i]] = [X_train[i]]"
      ],
      "execution_count": 14,
      "outputs": []
    },
    {
      "cell_type": "code",
      "metadata": {
        "id": "RmnbICCBqYOZ",
        "colab_type": "code",
        "colab": {
          "base_uri": "https://localhost:8080/",
          "height": 68
        },
        "outputId": "5432dd77-b1e4-4eb8-8d40-c9e07af9e887"
      },
      "source": [
        "for key in train_dic.keys():\n",
        "  print(\"No of images for category {} in training data: {} \".format(key, len(train_dic[key])))"
      ],
      "execution_count": 15,
      "outputs": [
        {
          "output_type": "stream",
          "text": [
            "No of images for category Happy in training data: 3361 \n",
            "No of images for category Fear in training data: 1934 \n",
            "No of images for category Sad in training data: 2276 \n"
          ],
          "name": "stdout"
        }
      ]
    },
    {
      "cell_type": "code",
      "metadata": {
        "id": "RcAZScbH5o2J",
        "colab_type": "code",
        "colab": {}
      },
      "source": [
        "m = max([len(train_dic[key]) for key in train_dic.keys()])\n",
        "for key in train_dic.keys():\n",
        "     l =(m - len(train_dic[key]))\n",
        "     if l!= 0:\n",
        "      #print(np.array(random.choices(dic[key],k=l)).shape)\n",
        "      X_train = np.concatenate((X_train, np.array(random.choices(train_dic[key],k=l))))\n",
        "      y_train = np.concatenate((y_train,np.array([key]*l)),axis=0)\n",
        "      #y = np.concatenate((y,np.stack((np.array(convert_array[key]),)*l)),axis=0)"
      ],
      "execution_count": 16,
      "outputs": []
    },
    {
      "cell_type": "code",
      "metadata": {
        "id": "Uw7PinOjbb3I",
        "colab_type": "code",
        "colab": {
          "base_uri": "https://localhost:8080/",
          "height": 51
        },
        "outputId": "0ed6f5ec-3860-45c2-bbbe-a6b7091b4f26"
      },
      "source": [
        "print(X_train.shape)\n",
        "print(y_train.shape)"
      ],
      "execution_count": 17,
      "outputs": [
        {
          "output_type": "stream",
          "text": [
            "(10083, 80, 80, 3)\n",
            "(10083,)\n"
          ],
          "name": "stdout"
        }
      ]
    },
    {
      "cell_type": "markdown",
      "metadata": {
        "id": "zx2YPuww369p",
        "colab_type": "text"
      },
      "source": [
        "### One hot encoding of label"
      ]
    },
    {
      "cell_type": "code",
      "metadata": {
        "id": "ZEeZAepLrDIu",
        "colab_type": "code",
        "colab": {
          "base_uri": "https://localhost:8080/",
          "height": 34
        },
        "outputId": "13a9e2cf-0034-44cb-a660-2b1419206238"
      },
      "source": [
        "print(\"Unique labels:\",set(y_cat))\n",
        "convert_array = {'Happy': [1,0,0],'Sad': [0,1,0],'Fear':[0,0,1] }\n",
        "# X = np.array(X).reshape(-1,48,48,1)\n",
        "#y_encoded = np.array([convert_array[i] for i in y_cat])\n",
        "#y = np.eye(len(set(y_encoded)))[y_encoded]\n",
        "y_train = np.array([convert_array[i] for i in y_train])\n",
        "y_test = np.array([convert_array[i] for i in y_test])"
      ],
      "execution_count": 18,
      "outputs": [
        {
          "output_type": "stream",
          "text": [
            "Unique labels: {'Sad', 'Fear', 'Happy'}\n"
          ],
          "name": "stdout"
        }
      ]
    },
    {
      "cell_type": "code",
      "metadata": {
        "id": "HdnS0a_vMIGL",
        "colab_type": "code",
        "colab": {
          "base_uri": "https://localhost:8080/",
          "height": 51
        },
        "outputId": "6576a762-12a6-4d41-86fc-e0a6b9621372"
      },
      "source": [
        "print(\"No of training data:\",X_train.shape[0])\n",
        "print(\"No of validation data:\",X_test.shape[0])"
      ],
      "execution_count": 19,
      "outputs": [
        {
          "output_type": "stream",
          "text": [
            "No of training data: 10083\n",
            "No of validation data: 3246\n"
          ],
          "name": "stdout"
        }
      ]
    },
    {
      "cell_type": "markdown",
      "metadata": {
        "id": "u6hFcwKY3_WF",
        "colab_type": "text"
      },
      "source": [
        "### Define Model"
      ]
    },
    {
      "cell_type": "code",
      "metadata": {
        "id": "yV7aUYttYEwl",
        "colab_type": "code",
        "colab": {}
      },
      "source": [
        "IMAGE_SIZE = 80\n",
        "\n",
        "base_model = VGG16(include_top=False, input_shape=(IMAGE_SIZE, IMAGE_SIZE, 3), weights=\"imagenet\") \n",
        " \n",
        "base_model.trainable = True\n",
        "\n",
        "\n",
        "model = Sequential([base_model])\n",
        "model.add(Flatten())\n",
        "model.add(BatchNormalization())\n",
        "model.add(Dense(256, activation = \"relu\"))\n",
        "#model.add(BatchNormalization())\n",
        "model.add(Dropout(0.25))\n",
        "# model.add(Dense(128, activation = \"relu\"))\n",
        "# model.add(Dropout(0.5))\n",
        "model.add(Dense(3, activation = \"softmax\"))\n",
        "\n",
        "optimizer = Adam(learning_rate=0.0001, beta_1=0.9, beta_2=0.999, amsgrad=False)\n",
        "#optimizer = RMSprop(learning_rate=0.001)\n",
        "\n",
        "\n",
        "model.compile(optimizer = optimizer , loss = \"categorical_crossentropy\", metrics=[\"accuracy\"])"
      ],
      "execution_count": 20,
      "outputs": []
    },
    {
      "cell_type": "code",
      "metadata": {
        "id": "W2_wcpoPcqrQ",
        "colab_type": "code",
        "colab": {}
      },
      "source": [
        "def fit_model(model,epochs = 50, batch_size = 64, data_augmentation = False):\n",
        "\n",
        "    rlr = ReduceLROnPlateau(monitor='val_accuracy', factor=0.2, patience= 3, verbose=1, mode='auto', min_lr=0)\n",
        "\n",
        "    if not data_augmentation:\n",
        "      print(\"Fitting model without using Data Augmenatation.\")\n",
        "      history = model.fit(X_train, y_train,\n",
        "              batch_size=batch_size,\n",
        "              epochs=epochs,\n",
        "              validation_data=(X_test, y_test),\n",
        "              shuffle=True, verbose = 2, callbacks=[rlr])\n",
        "    else:\n",
        "      print(\"Fitting model using Data Augmenatation.\")\n",
        "      datagen = ImageDataGenerator(\n",
        "        featurewise_center=True,  # set input mean to 0 over the dataset\n",
        "        samplewise_center=True,  # set each sample mean to 0\n",
        "        featurewise_std_normalization=True,  # divide inputs by std of the dataset\n",
        "        samplewise_std_normalization=True,  # divide each input by its std\n",
        "        zca_whitening=True,  # apply ZCA whitening\n",
        "        zca_epsilon=1e-06,  # epsilon for ZCA whitening\n",
        "        rotation_range=0,  # randomly rotate images in the range (degrees, 0 to 180)\n",
        "        # randomly shift images horizontally (fraction of total width)\n",
        "        width_shift_range=0.,\n",
        "        # randomly shift images vertically (fraction of total height)\n",
        "        height_shift_range=0.,\n",
        "        shear_range=0.,  # set range for random shear\n",
        "        zoom_range=0.1,  # set range for random zoom\n",
        "        channel_shift_range=0.,  # set range for random channel shifts\n",
        "        # set mode for filling points outside the input boundaries\n",
        "        fill_mode='nearest',\n",
        "        cval=0.,  # value used for fill_mode = \"constant\"\n",
        "        horizontal_flip=False,  # randomly flip images\n",
        "        vertical_flip=False,  # randomly flip images\n",
        "        # set rescaling factor (applied befor/e any other transformation)\n",
        "        rescale=None)\n",
        "      \n",
        "      datagen.fit(X_train)\n",
        "      history = model.fit_generator(datagen.flow(X_train, y_train,\n",
        "                                     batch_size=batch_size),\n",
        "                        epochs=epochs,\n",
        "                        validation_data=(X_test, y_test),\n",
        "                        shuffle = True,verbose = 2, callbacks=[rlr])\n",
        "    return history"
      ],
      "execution_count": 21,
      "outputs": []
    },
    {
      "cell_type": "markdown",
      "metadata": {
        "id": "IxSEsY6g4eIE",
        "colab_type": "text"
      },
      "source": [
        "### Fit the model"
      ]
    },
    {
      "cell_type": "code",
      "metadata": {
        "id": "WgyALIXHdBIW",
        "colab_type": "code",
        "colab": {}
      },
      "source": [
        "history = fit_model(model, data_augmentation=False)"
      ],
      "execution_count": 1,
      "outputs": []
    },
    {
      "cell_type": "markdown",
      "metadata": {
        "id": "B2yPcJ4z7E4z",
        "colab_type": "text"
      },
      "source": [
        "### For prediction "
      ]
    },
    {
      "cell_type": "code",
      "metadata": {
        "id": "qp3kwjeK40DB",
        "colab_type": "code",
        "colab": {}
      },
      "source": [
        "model.predict()"
      ],
      "execution_count": null,
      "outputs": []
    },
    {
      "cell_type": "code",
      "metadata": {
        "id": "lRvVr0ISWBsa",
        "colab_type": "code",
        "colab": {}
      },
      "source": [
        ""
      ],
      "execution_count": null,
      "outputs": []
    },
    {
      "cell_type": "code",
      "metadata": {
        "id": "lPq8A-VQZQuE",
        "colab_type": "code",
        "colab": {}
      },
      "source": [
        ""
      ],
      "execution_count": null,
      "outputs": []
    }
  ]
}